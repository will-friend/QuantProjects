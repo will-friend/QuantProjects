version https://git-lfs.github.com/spec/v1
oid sha256:60c4f0d44272737d6d1f9c5850b48868b34a42eae97fbc9dbff2b524491a2a92
size 70600848
